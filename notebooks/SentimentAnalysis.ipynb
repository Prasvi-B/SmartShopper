{
 "cells": [
  {
   "cell_type": "markdown",
   "id": "e735ceeb",
   "metadata": {},
   "source": [
    "# Sentiment Analysis Demo\n",
    "Experiment with NLP libraries for review sentiment."
   ]
  },
  {
   "cell_type": "code",
   "execution_count": null,
   "id": "3a07d59a",
   "metadata": {},
   "outputs": [],
   "source": [
    "from textblob import TextBlob\n",
    "review = 'The battery life is amazing but the phone heats up.'\n",
    "blob = TextBlob(review)\n",
    "print(blob.sentiment)"
   ]
  }
 ],
 "metadata": {
  "language_info": {
   "name": "python"
  }
 },
 "nbformat": 4,
 "nbformat_minor": 5
}
