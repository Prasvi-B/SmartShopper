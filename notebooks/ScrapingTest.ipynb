{
 "cells": [
  {
   "cell_type": "markdown",
   "id": "7c7251af",
   "metadata": {},
   "source": [
    "# Scraping Test\n",
    "Try scraping product prices from demo HTML."
   ]
  },
  {
   "cell_type": "code",
   "execution_count": null,
   "id": "2a1d11d3",
   "metadata": {},
   "outputs": [],
   "source": [
    "from bs4 import BeautifulSoup\n",
    "html = '<div><span>Price: ₹79999</span></div>'\n",
    "soup = BeautifulSoup(html, 'html.parser')\n",
    "print(soup.find('span').text)"
   ]
  }
 ],
 "metadata": {
  "language_info": {
   "name": "python"
  }
 },
 "nbformat": 4,
 "nbformat_minor": 5
}
