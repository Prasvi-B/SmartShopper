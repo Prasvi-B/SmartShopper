{
 "cells": [
  {
   "cell_type": "markdown",
   "id": "bd4d3b05",
   "metadata": {},
   "source": [
    "# Visualization Demo\n",
    "Plot sample price distribution."
   ]
  },
  {
   "cell_type": "code",
   "execution_count": null,
   "id": "5dccd851",
   "metadata": {},
   "outputs": [],
   "source": [
    "import matplotlib.pyplot as plt\n",
    "prices = [79999, 78999, 80500]\n",
    "plt.bar(['Amazon', 'Flipkart', 'Myntra'], prices)\n",
    "plt.ylabel('Price (INR)')\n",
    "plt.show()"
   ]
  }
 ],
 "metadata": {
  "language_info": {
   "name": "python"
  }
 },
 "nbformat": 4,
 "nbformat_minor": 5
}
