{
 "cells": [
  {
   "cell_type": "markdown",
   "id": "b00429a8",
   "metadata": {},
   "source": [
    "# Baseline Sentiment Classifier\n",
    "Train TF-IDF + LogisticRegression on review dataset."
   ]
  },
  {
   "cell_type": "code",
   "execution_count": null,
   "id": "9de34e0b",
   "metadata": {},
   "outputs": [],
   "source": [
    "import pandas as pd\n",
    "from sklearn.feature_extraction.text import TfidfVectorizer\n",
    "from sklearn.linear_model import LogisticRegression\n",
    "from sklearn.model_selection import train_test_split\n",
    "from sklearn.metrics import classification_report\n",
    "import joblib\n",
    "\n",
    "# Load sample dataset\n",
    "df = pd.read_csv('sample_reviews.csv')\n",
    "X = df['review_text']\n",
    "y = df['sentiment']\n",
    "\n",
    "# Split\n",
    "X_train, X_test, y_train, y_test = train_test_split(X, y, test_size=0.2, random_state=42)\n",
    "\n",
    "# TF-IDF\n",
    "vectorizer = TfidfVectorizer(max_features=5000)\n",
    "X_train_vec = vectorizer.fit_transform(X_train)\n",
    "X_test_vec = vectorizer.transform(X_test)\n",
    "\n",
    "# Model\n",
    "clf = LogisticRegression(max_iter=1000)\n",
    "clf.fit(X_train_vec, y_train)\n",
    "\n",
    "# Evaluate\n",
    "preds = clf.predict(X_test_vec)\n",
    "print(classification_report(y_test, preds))\n",
    "\n",
    "# Save\n",
    "joblib.dump(vectorizer, 'tfidf_vectorizer.joblib')\n",
    "joblib.dump(clf, 'sentiment_model.joblib')"
   ]
  }
 ],
 "metadata": {
  "language_info": {
   "name": "python"
  }
 },
 "nbformat": 4,
 "nbformat_minor": 5
}
